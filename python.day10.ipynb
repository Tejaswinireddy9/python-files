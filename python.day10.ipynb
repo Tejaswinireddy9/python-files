{
 "cells": [
  {
   "cell_type": "markdown",
   "metadata": {},
   "source": [
    "### file handling in python\n",
    "- file:- document containing information resides on the permanent storage\n",
    "- "
   ]
  },
  {
   "cell_type": "code",
   "execution_count": null,
   "metadata": {},
   "outputs": [],
   "source": [
    "write, read,analysis,-data science and analysis\n",
    "###file handling in python\n",
    "- file:- document containing information resides on the permenant storage\n",
    "different types of files :- txt,doc,pdf,csv,and etc\n",
    "input -- keyboard\n",
    "output file"
   ]
  },
  {
   "cell_type": "code",
   "execution_count": 3,
   "metadata": {},
   "outputs": [
    {
     "name": "stdout",
     "output_type": "stream",
     "text": [
      "file is created and data has written\n"
     ]
    }
   ],
   "source": [
    "# function to create a file and write to the file \n",
    "def createfile(filename):\n",
    "    f=open(filename,\"w\")\n",
    "    for i in range(10):\n",
    "        f.write('this is %d line'%i)\n",
    "    print(\"file is created and data has written\") \n",
    "    return\n",
    "createfile('file1.txt')"
   ]
  },
  {
   "cell_type": "code",
   "execution_count": 4,
   "metadata": {},
   "outputs": [
    {
     "name": "stdout",
     "output_type": "stream",
     "text": [
      " Volume in drive C has no label.\n",
      " Volume Serial Number is 82ED-C005\n",
      "\n",
      " Directory of C:\\Users\\228\n",
      "\n",
      "07/11/2019  09:31 AM    <DIR>          .\n",
      "07/11/2019  09:31 AM    <DIR>          ..\n",
      "05/05/2019  07:21 PM    <DIR>          .anaconda\n",
      "03/14/2017  11:04 AM               145 .appletviewer\n",
      "06/25/2019  03:02 PM             1,495 .bash_history\n",
      "11/02/2017  03:13 PM                 0 .cdtclient\n",
      "06/22/2019  09:24 AM    <DIR>          .conda\n",
      "06/22/2019  09:23 AM                43 .condarc\n",
      "03/18/2019  12:24 PM    <DIR>          .eclipse\n",
      "05/21/2019  11:50 AM                65 .gitconfig\n",
      "06/29/2019  10:38 AM    <DIR>          .idlerc\n",
      "06/21/2019  05:19 PM             7,374 .ipynb\n",
      "07/11/2019  09:25 AM    <DIR>          .ipynb_checkpoints\n",
      "05/06/2019  09:38 AM    <DIR>          .ipython\n",
      "06/21/2019  07:52 PM    <DIR>          .jupyter\n",
      "05/18/2019  11:11 AM    <DIR>          .matplotlib\n",
      "11/16/2018  09:41 AM    <DIR>          .oracle_jre_usage\n",
      "03/18/2019  12:29 PM    <DIR>          .p2\n",
      "05/08/2019  11:04 AM    <DIR>          .spyder-py3\n",
      "05/08/2019  11:00 AM    <DIR>          Anaconda3\n",
      "07/10/2019  11:18 AM             2,384 assignment.ipynb\n",
      "05/09/2019  10:08 AM    <DIR>          Contacts\n",
      "05/09/2019  11:01 AM             5,412 copy.ipynb\n",
      "07/06/2019  03:16 PM    <DIR>          Desktop\n",
      "06/04/2019  12:41 PM    <DIR>          Documents\n",
      "07/10/2019  10:21 AM    <DIR>          Downloads\n",
      "05/09/2019  10:08 AM    <DIR>          Favorites\n",
      "07/11/2019  09:30 AM               140 file1.txt\n",
      "05/09/2019  10:08 AM    <DIR>          Links\n",
      "05/09/2019  10:08 AM    <DIR>          Music\n",
      "05/09/2019  10:08 AM    <DIR>          Pictures\n",
      "05/16/2019  12:37 PM    <DIR>          PYTHON NOTEBOOK\n",
      "05/16/2019  11:33 AM    <DIR>          PYTHON PROGRAMMING\n",
      "07/09/2019  11:57 AM            11,296 python.day6.ipynb\n",
      "07/08/2019  03:12 PM             8,328 python.day7.ipynb\n",
      "07/09/2019  10:57 AM             9,313 python.day8.ipynb\n",
      "07/10/2019  03:56 PM            15,665 python.day9.ipynb\n",
      "06/21/2019  05:24 PM             7,515 ruthvik.ipynb\n",
      "06/22/2019  02:44 PM             5,477 ruthvik1.ipynb\n",
      "05/09/2019  10:08 AM    <DIR>          Saved Games\n",
      "06/26/2019  04:49 PM    <DIR>          Searches\n",
      "05/06/2019  09:38 AM                72 Untitled.ipynb\n",
      "05/07/2019  09:56 AM                72 Untitled1.ipynb\n",
      "05/09/2019  10:12 AM               981 Untitled10.ipynb\n",
      "06/21/2019  05:22 PM             7,515 Untitled11.ipynb\n",
      "06/21/2019  05:05 PM               555 Untitled12.ipynb\n",
      "06/22/2019  10:26 AM             3,187 Untitled13.ipynb\n",
      "06/22/2019  12:03 PM               859 Untitled14.ipynb\n",
      "07/08/2019  02:17 PM                72 Untitled15.ipynb\n",
      "07/10/2019  02:11 PM               555 Untitled16.ipynb\n",
      "07/11/2019  09:31 AM             1,335 Untitled17.ipynb\n",
      "05/08/2019  09:43 AM               288 Untitled2.ipynb\n",
      "05/08/2019  10:01 AM                72 Untitled3.ipynb\n",
      "05/08/2019  10:05 AM                72 Untitled4.ipynb\n",
      "05/08/2019  11:03 AM               534 Untitled5.ipynb\n",
      "05/09/2019  09:04 AM                72 Untitled6.ipynb\n",
      "05/09/2019  09:08 AM                72 Untitled7.ipynb\n",
      "05/09/2019  09:23 AM                72 Untitled8.ipynb\n",
      "05/09/2019  09:37 AM                72 Untitled9.ipynb\n",
      "05/09/2019  10:08 AM    <DIR>          Videos\n",
      "03/18/2019  12:24 PM    <DIR>          workspace\n",
      "              33 File(s)         91,109 bytes\n",
      "              28 Dir(s)  77,621,592,064 bytes free\n"
     ]
    }
   ],
   "source": [
    "ls\n"
   ]
  },
  {
   "cell_type": "code",
   "execution_count": 6,
   "metadata": {},
   "outputs": [
    {
     "name": "stdout",
     "output_type": "stream",
     "text": [
      "testing...\n",
      "\n",
      "file is created and data has written\n"
     ]
    }
   ],
   "source": [
    "def createfile(filename):\n",
    "    f=open(filename,\"w\")\n",
    "    print('testing...\\n')\n",
    "    print(\"file is created and data has written\")\n",
    "    return\n",
    "createfile('filename1.txt')\n",
    "    "
   ]
  },
  {
   "cell_type": "code",
   "execution_count": 9,
   "metadata": {},
   "outputs": [
    {
     "name": "stdout",
     "output_type": "stream",
     "text": [
      "file is created and successfully data has written\n"
     ]
    }
   ],
   "source": [
    "def appenddata(filename):\n",
    "    f=open(filename,\"a\")\n",
    "    for i in range(10):\n",
    "        f.write('this is %d line'%i)\n",
    "    print(\"file is created and successfully data has written\") \n",
    "    return\n",
    "appenddata('file2.txt')"
   ]
  },
  {
   "cell_type": "code",
   "execution_count": 11,
   "metadata": {},
   "outputs": [
    {
     "name": "stdout",
     "output_type": "stream",
     "text": [
      "file is created and successfully data has written\n"
     ]
    }
   ],
   "source": [
    "def appenddata(filename):\n",
    "    f=open(filename,\"a\")\n",
    "    f.write(\"new line 1\\n\")\n",
    "    f.write(\"new line 2 \\n\")\n",
    "    print(\"file is created and successfully data has written\") \n",
    "    return\n",
    "appenddata('file2.txt')"
   ]
  },
  {
   "cell_type": "code",
   "execution_count": 13,
   "metadata": {},
   "outputs": [
    {
     "name": "stdout",
     "output_type": "stream",
     "text": [
      "this is 0 linethis is 1 linethis is 2 linethis is 3 linethis is 4 linethis is 5 linethis is 6 linethis is 7 linethis is 8 linethis is 9 linethis is 0 linethis is 1 linethis is 2 linethis is 3 linethis is 4 linethis is 5 linethis is 6 linethis is 7 linethis is 8 linethis is 9 linethis is 0 linethis is 1 linethis is 2 linethis is 3 linethis is 4 linethis is 5 linethis is 6 linethis is 7 linethis is 8 linethis is 9 linenew line 1\n",
      "new line 2 \n",
      "new line 1\n",
      "new line 2 \n",
      "\n"
     ]
    }
   ],
   "source": [
    "# function to read of the file \n",
    "def readfiledata(filename):\n",
    "    f=open(filename,'r')\n",
    "    if f.mode =='r':\n",
    "        x=f.read( )\n",
    "        print(x)\n",
    "    f.close()\n",
    "    return\n",
    "readfiledata('file2.txt')"
   ]
  },
  {
   "cell_type": "code",
   "execution_count": 1,
   "metadata": {},
   "outputs": [
    {
     "name": "stdout",
     "output_type": "stream",
     "text": [
      "enter the filenamefile2.txt\n",
      "enter the mode of the filer\n",
      "this is 0 linethis is 1 linethis is 2 linethis is 3 linethis is 4 linethis is 5 linethis is 6 linethis is 7 linethis is 8 linethis is 9 linethis is 0 linethis is 1 linethis is 2 linethis is 3 linethis is 4 linethis is 5 linethis is 6 linethis is 7 linethis is 8 linethis is 9 linethis is 0 linethis is 1 linethis is 2 linethis is 3 linethis is 4 linethis is 5 linethis is 6 linethis is 7 linethis is 8 linethis is 9 linenew line 1\n",
      "new line 2 \n",
      "new line 1\n",
      "new line 2 \n",
      "\n"
     ]
    }
   ],
   "source": [
    "# function to read the file\n",
    "def fileoperations(filename,mode):\n",
    "    with open(filename,mode) as f:\n",
    "        if f.mode == 'r':\n",
    "            data = f.read()\n",
    "            print(data)\n",
    "        elif f.mode == 'a':\n",
    "                f.write('data to the file\\n')\n",
    "                print('the data successfully written')\n",
    "    f.close()\n",
    "    return\n",
    "filename = input('enter the filename')\n",
    "mode = input('enter the mode of the file')\n",
    "fileoperations(filename,mode)"
   ]
  },
  {
   "cell_type": "code",
   "execution_count": 1,
   "metadata": {},
   "outputs": [
    {
     "name": "stdout",
     "output_type": "stream",
     "text": [
      "enter the filenamefile2.txt\n",
      "enter the word:this\n"
     ]
    },
    {
     "ename": "FileNotFoundError",
     "evalue": "[Errno 2] No such file or directory: 'filename'",
     "output_type": "error",
     "traceback": [
      "\u001b[1;31m---------------------------------------------------------------------------\u001b[0m",
      "\u001b[1;31mFileNotFoundError\u001b[0m                         Traceback (most recent call last)",
      "\u001b[1;32m<ipython-input-1-fec8faaf5336>\u001b[0m in \u001b[0;36m<module>\u001b[1;34m\u001b[0m\n\u001b[0;32m     10\u001b[0m \u001b[0mfilename\u001b[0m\u001b[1;33m=\u001b[0m\u001b[0minput\u001b[0m\u001b[1;33m(\u001b[0m\u001b[1;34m'enter the filename'\u001b[0m\u001b[1;33m)\u001b[0m\u001b[1;33m\u001b[0m\u001b[1;33m\u001b[0m\u001b[0m\n\u001b[0;32m     11\u001b[0m \u001b[0mword\u001b[0m\u001b[1;33m=\u001b[0m\u001b[0minput\u001b[0m\u001b[1;33m(\u001b[0m\u001b[1;34m'enter the word:'\u001b[0m\u001b[1;33m)\u001b[0m \u001b[1;31m# which word count u need\u001b[0m\u001b[1;33m\u001b[0m\u001b[1;33m\u001b[0m\u001b[0m\n\u001b[1;32m---> 12\u001b[1;33m \u001b[0mwordcount\u001b[0m\u001b[1;33m(\u001b[0m\u001b[0mfilename\u001b[0m\u001b[1;33m,\u001b[0m\u001b[0mword\u001b[0m\u001b[1;33m)\u001b[0m\u001b[1;33m\u001b[0m\u001b[1;33m\u001b[0m\u001b[0m\n\u001b[0m",
      "\u001b[1;32m<ipython-input-1-fec8faaf5336>\u001b[0m in \u001b[0;36mwordcount\u001b[1;34m(filename, word)\u001b[0m\n\u001b[0;32m      2\u001b[0m \u001b[1;31m# wordcount program\u001b[0m\u001b[1;33m\u001b[0m\u001b[1;33m\u001b[0m\u001b[1;33m\u001b[0m\u001b[0m\n\u001b[0;32m      3\u001b[0m \u001b[1;32mdef\u001b[0m \u001b[0mwordcount\u001b[0m\u001b[1;33m(\u001b[0m\u001b[0mfilename\u001b[0m\u001b[1;33m,\u001b[0m\u001b[0mword\u001b[0m\u001b[1;33m)\u001b[0m\u001b[1;33m:\u001b[0m\u001b[1;33m\u001b[0m\u001b[1;33m\u001b[0m\u001b[0m\n\u001b[1;32m----> 4\u001b[1;33m     \u001b[1;32mwith\u001b[0m \u001b[0mopen\u001b[0m\u001b[1;33m(\u001b[0m\u001b[1;34m'filename'\u001b[0m\u001b[1;33m,\u001b[0m\u001b[1;34m'r'\u001b[0m\u001b[1;33m)\u001b[0m \u001b[1;32mas\u001b[0m \u001b[0mf\u001b[0m\u001b[1;33m:\u001b[0m\u001b[1;33m\u001b[0m\u001b[1;33m\u001b[0m\u001b[0m\n\u001b[0m\u001b[0;32m      5\u001b[0m         \u001b[1;32mif\u001b[0m \u001b[0mf\u001b[0m\u001b[1;33m.\u001b[0m\u001b[0mmode\u001b[0m\u001b[1;33m==\u001b[0m\u001b[1;34m'r'\u001b[0m\u001b[1;33m:\u001b[0m\u001b[1;33m\u001b[0m\u001b[1;33m\u001b[0m\u001b[0m\n\u001b[0;32m      6\u001b[0m             \u001b[0mx\u001b[0m\u001b[1;33m=\u001b[0m\u001b[0mf\u001b[0m\u001b[1;33m.\u001b[0m\u001b[0mread\u001b[0m\u001b[1;33m(\u001b[0m\u001b[1;33m)\u001b[0m\u001b[1;33m\u001b[0m\u001b[1;33m\u001b[0m\u001b[0m\n",
      "\u001b[1;31mFileNotFoundError\u001b[0m: [Errno 2] No such file or directory: 'filename'"
     ]
    }
   ],
   "source": [
    "# data analysis\n",
    "# wordcount program\n",
    "def wordcount(filename,word):\n",
    "    with open('filename','r') as f:\n",
    "        if f.mode=='r':\n",
    "            x=f.read()\n",
    "            li=x.split() # its splits the string with\n",
    "        cnt=li.count(word)\n",
    "        return cnt\n",
    "filename=input('enter the filename')\n",
    "word=input('enter the word:') # which word count u need \n",
    "wordcount(filename,word)"
   ]
  },
  {
   "cell_type": "code",
   "execution_count": 1,
   "metadata": {},
   "outputs": [
    {
     "name": "stdout",
     "output_type": "stream",
     "text": [
      "enter the filename:file2.txt\n"
     ]
    },
    {
     "data": {
      "text/plain": [
       "466"
      ]
     },
     "execution_count": 1,
     "metadata": {},
     "output_type": "execute_result"
    }
   ],
   "source": [
    "# character count from the given file\n",
    "def charcount(filename):\n",
    "    with open(filename,'r') as f:\n",
    "        if f.mode=='r':\n",
    "            x=f.read()\n",
    "            li=list(x) # convert the string-char\n",
    "    return len(li)\n",
    "filename=input('enter the filename:')\n",
    "charcount(filename)\n"
   ]
  },
  {
   "cell_type": "code",
   "execution_count": 2,
   "metadata": {},
   "outputs": [
    {
     "name": "stdout",
     "output_type": "stream",
     "text": [
      "['python progr', 'mming']\n"
     ]
    }
   ],
   "source": [
    "s1=\"python programming\"\n",
    "print(s1.split('a'))"
   ]
  },
  {
   "cell_type": "code",
   "execution_count": null,
   "metadata": {},
   "outputs": [],
   "source": [
    "# function to find the no of lines in the input file\n",
    "# input --filename(file2.txt)\n",
    "# output -- no of lines(12)"
   ]
  }
 ],
 "metadata": {
  "kernelspec": {
   "display_name": "Python 3",
   "language": "python",
   "name": "python3"
  },
  "language_info": {
   "codemirror_mode": {
    "name": "ipython",
    "version": 3
   },
   "file_extension": ".py",
   "mimetype": "text/x-python",
   "name": "python",
   "nbconvert_exporter": "python",
   "pygments_lexer": "ipython3",
   "version": "3.7.3"
  }
 },
 "nbformat": 4,
 "nbformat_minor": 2
}
