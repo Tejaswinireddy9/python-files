{
 "cells": [
  {
   "cell_type": "code",
   "execution_count": 2,
   "metadata": {
    "scrolled": true
   },
   "outputs": [
    {
     "name": "stdout",
     "output_type": "stream",
     "text": [
      "enter number 112\n",
      "enter number 216\n",
      "enter number 319\n",
      "19 is the largest number\n"
     ]
    }
   ],
   "source": [
    "a1=int(input(\"enter number 1\"))\n",
    "a2=int(input(\"enter number 2\"))\n",
    "a3=int(input(\"enter number 3\"))\n",
    "if a1>a2 and a1>a3:\n",
    "     print(a1,\"is the largest number\")\n",
    "elif a2>a1 and a2>a3:\n",
    "    pritn(a2,\"is the largest number\")\n",
    "else:\n",
    "    print(a3,\"is the largest number\")"
   ]
  },
  {
   "cell_type": "code",
   "execution_count": 5,
   "metadata": {},
   "outputs": [
    {
     "name": "stdout",
     "output_type": "stream",
     "text": [
      "every year2019\n",
      "not a leap year\n"
     ]
    }
   ],
   "source": [
    "# check if a year is leap year or not\n",
    "year=int(input(\"every year\"))\n",
    "if year%400==0 or (year%100!=0 and year%4==0):\n",
    "    print(\"leap year\")\n",
    "else:\n",
    "    print(\"not a leap year\")"
   ]
  },
  {
   "cell_type": "markdown",
   "metadata": {},
   "source": [
    "## iteration\n",
    "- while \n",
    "- for \n",
    "syntax:\n",
    "while boolean condition:\n",
    "statements\n",
    "increment/decrement"
   ]
  },
  {
   "cell_type": "code",
   "execution_count": 6,
   "metadata": {},
   "outputs": [
    {
     "name": "stdout",
     "output_type": "stream",
     "text": [
      "gitam\n",
      "gitam\n",
      "gitam\n",
      "gitam\n",
      "gitam\n"
     ]
    }
   ],
   "source": [
    "# need print \"gitam\" for 5 times\n",
    "print(\"gitam\")\n",
    "print(\"gitam\")\n",
    "print(\"gitam\")\n",
    "print(\"gitam\")\n",
    "print(\"gitam\")"
   ]
  },
  {
   "cell_type": "code",
   "execution_count": 7,
   "metadata": {},
   "outputs": [
    {
     "name": "stdout",
     "output_type": "stream",
     "text": [
      "gitam\n",
      "gitam\n",
      "gitam\n",
      "gitam\n",
      "gitam\n"
     ]
    }
   ],
   "source": [
    "x=0\n",
    "while x<5 :\n",
    "    print(\"gitam\")\n",
    "    x=x+1"
   ]
  },
  {
   "cell_type": "code",
   "execution_count": 18,
   "metadata": {},
   "outputs": [
    {
     "name": "stdout",
     "output_type": "stream",
     "text": [
      "1\n",
      "2\n",
      "3\n",
      "4\n",
      "5\n",
      "6\n",
      "7\n",
      "8\n",
      "9\n",
      "10\n"
     ]
    }
   ],
   "source": [
    "#print n natural numbers using while loop\n",
    "i=1\n",
    "while i<11:\n",
    "    print(i)\n",
    "    i=i+1\n",
    "\n"
   ]
  },
  {
   "cell_type": "code",
   "execution_count": 31,
   "metadata": {},
   "outputs": [
    {
     "name": "stdout",
     "output_type": "stream",
     "text": [
      "30\n"
     ]
    }
   ],
   "source": [
    "# read a number --n\n",
    "# add only even numbers between 1 to n\n",
    "# input --10\n",
    "# output --30(2+4+..)\n",
    "i=2\n",
    "sum=0\n",
    "while i<=10:\n",
    "    sum=sum+i\n",
    "    i=i+2\n",
    "print(sum)    "
   ]
  },
  {
   "cell_type": "code",
   "execution_count": 3,
   "metadata": {},
   "outputs": [
    {
     "name": "stdout",
     "output_type": "stream",
     "text": [
      "3\n",
      "2\n",
      "1\n"
     ]
    }
   ],
   "source": [
    "# number as a input ---123\n",
    "# print the digits of given number in reverse direction\n",
    "i=123\n",
    "while i>0:\n",
    "    rev=i%10\n",
    "    print(rev)\n",
    "    i=i//10"
   ]
  },
  {
   "cell_type": "markdown",
   "metadata": {},
   "source": [
    "## functional programming\n",
    "- simple\n",
    "- easy read\n",
    "- lengthy program divides in to subprograms\n"
   ]
  },
  {
   "cell_type": "markdown",
   "metadata": {},
   "source": [
    "def nameofthefunction(<parameters>):\n",
    "    statement\n",
    "    return\n"
   ]
  },
  {
   "cell_type": "code",
   "execution_count": null,
   "metadata": {},
   "outputs": [],
   "source": []
  },
  {
   "cell_type": "code",
   "execution_count": 25,
   "metadata": {},
   "outputs": [
    {
     "name": "stdout",
     "output_type": "stream",
     "text": [
      "14\n"
     ]
    }
   ],
   "source": [
    "print(addevendigits(2584))"
   ]
  },
  {
   "cell_type": "code",
   "execution_count": 27,
   "metadata": {},
   "outputs": [
    {
     "data": {
      "text/plain": [
       "6"
      ]
     },
     "execution_count": 27,
     "metadata": {},
     "output_type": "execute_result"
    }
   ],
   "source": [
    "# read a number --1234\n",
    "# output -- 6(2+4)\n",
    "\n",
    "def addevendigits(n):\n",
    "    sum=0\n",
    "    while n!=0:\n",
    "        i=n%10\n",
    "        if i%2==0:\n",
    "            sum=sum+i\n",
    "        n=n//10\n",
    "    return(sum)\n",
    "addevendigits(1234)\n",
    "\n",
    "\n",
    "\n"
   ]
  },
  {
   "cell_type": "code",
   "execution_count": null,
   "metadata": {},
   "outputs": [],
   "source": [
    "print(addevendigits())"
   ]
  },
  {
   "cell_type": "code",
   "execution_count": null,
   "metadata": {},
   "outputs": [],
   "source": []
  },
  {
   "cell_type": "code",
   "execution_count": null,
   "metadata": {},
   "outputs": [],
   "source": []
  }
 ],
 "metadata": {
  "kernelspec": {
   "display_name": "Python 3",
   "language": "python",
   "name": "python3"
  }
 },
 "nbformat": 4,
 "nbformat_minor": 2
}
