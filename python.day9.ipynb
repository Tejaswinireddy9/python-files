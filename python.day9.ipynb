{
 "cells": [
  {
   "cell_type": "code",
   "execution_count": null,
   "metadata": {},
   "outputs": [],
   "source": []
  },
  {
   "cell_type": "markdown",
   "metadata": {},
   "source": [
    "data structures \n",
    "- dictionaries\n"
   ]
  },
  {
   "cell_type": "code",
   "execution_count": null,
   "metadata": {},
   "outputs": [],
   "source": [
    "### dictionaries\n",
    "- it works on the concept of set unique data\n",
    "- keys,values is the unique identifier for a value\n",
    "- each key is separated from its values with colon(:)\n",
    "- each key and value is separated by comma(,)\n",
    "- dictionaries enclosed with curly braces ({})"
   ]
  },
  {
   "cell_type": "code",
   "execution_count": 5,
   "metadata": {},
   "outputs": [
    {
     "name": "stdout",
     "output_type": "stream",
     "text": [
      "{'Name': 'Gitam', 'Emailid': 'gitam@gmail.com', 'Address': 'Hyderabad'}\n"
     ]
    }
   ],
   "source": [
    "d1={\"Name\":\"Gitam\",\"Emailid\":\"gitam@gmail.com\",\"Address\":\"Hyderabad\"}\n",
    "print(d1)"
   ]
  },
  {
   "cell_type": "code",
   "execution_count": 6,
   "metadata": {},
   "outputs": [
    {
     "name": "stdout",
     "output_type": "stream",
     "text": [
      "46[1, 4, 3, 16, 5]\n",
      "46[1, 4, 3, 16, 5]\n",
      "[15, 34, 31, 28, 20]\n"
     ]
    }
   ],
   "source": [
    "lst=[1,4,5,6,9]\n",
    "for i in lst:\n",
    "    if i%2==0:\n",
    "        print(i, end=\"\")\n",
    "lst2=[]\n",
    "lst=[1,2,3,4,5]\n",
    "for i in lst:\n",
    "    if i%2==0:\n",
    "        lst2.append(i**2)\n",
    "    else:\n",
    "        lst2.append(i)\n",
    "print (lst2)\n",
    "#2\n",
    "lst=[1,4,5,6,9]\n",
    "for i in lst:\n",
    "    if i%2==0:\n",
    "        print(i, end=\"\")\n",
    "#3\n",
    "lst2=[]\n",
    "lst=[1,2,3,4,5]\n",
    "for i in lst:\n",
    "    if i%2==0:\n",
    "        lst2.append(i**2)\n",
    "    else:\n",
    "        lst2.append(i)\n",
    "print (lst2)\n",
    "#4\n",
    "lst2=[]\n",
    "lst=[15,19,12,16,4]\n",
    "y=0\n",
    "for i in lst:\n",
    "    lst2.append(i+y)\n",
    "    y=i\n",
    "print(lst2)\n",
    "\n"
   ]
  },
  {
   "cell_type": "code",
   "execution_count": 7,
   "metadata": {},
   "outputs": [
    {
     "data": {
      "text/plain": [
       "'Gitam'"
      ]
     },
     "execution_count": 7,
     "metadata": {},
     "output_type": "execute_result"
    }
   ],
   "source": [
    "d1[\"Name\"] # access the specific key"
   ]
  },
  {
   "cell_type": "code",
   "execution_count": 8,
   "metadata": {},
   "outputs": [],
   "source": [
    "d1['Emailid']='gitam-python@gmail.com'# update hte data"
   ]
  },
  {
   "cell_type": "code",
   "execution_count": 9,
   "metadata": {},
   "outputs": [
    {
     "data": {
      "text/plain": [
       "'gitam-python@gmail.com'"
      ]
     },
     "execution_count": 9,
     "metadata": {},
     "output_type": "execute_result"
    }
   ],
   "source": [
    "d1['Emailid']"
   ]
  },
  {
   "cell_type": "code",
   "execution_count": 11,
   "metadata": {},
   "outputs": [],
   "source": [
    "del d1['Emailid'] # delete the specific key value"
   ]
  },
  {
   "cell_type": "code",
   "execution_count": 12,
   "metadata": {},
   "outputs": [
    {
     "data": {
      "text/plain": [
       "{'Name': 'Gitam', 'Address': 'Hyderabad'}"
      ]
     },
     "execution_count": 12,
     "metadata": {},
     "output_type": "execute_result"
    }
   ],
   "source": [
    "d1 # del d1 will delete the entire dict object"
   ]
  },
  {
   "cell_type": "code",
   "execution_count": 30,
   "metadata": {},
   "outputs": [
    {
     "data": {
      "text/plain": [
       "[1, 5, 9, 6, 4]"
      ]
     },
     "execution_count": 30,
     "metadata": {},
     "output_type": "execute_result"
    }
   ],
   "source": [
    "def secondlarge(li):\n",
    "    li.sort()\n",
    "    return li[-2]\n",
    "def genericlarge(li,n):\n",
    "    li.sort()\n",
    "    return li[-n]\n",
    "li = [1,19,6,2,8,18,3]\n",
    "genericlarge(li,4)\n",
    "# function for conversation - number to list\n",
    "# output --- number\n",
    "# output -- list\n",
    "# test cases :-\n",
    "# 14569 -- [1,4,5,6,9]\n",
    "# 1990 -- [ 1,9,9,0]\n",
    "def number(n):\n",
    "    li=[]\n",
    "    while n!=0:\n",
    "        r=n%10\n",
    "        li.append(r)\n",
    "        n=n//10\n",
    "        li.reverse()\n",
    "    return li\n",
    "number(14569)#[1,4,5,6,9]\n",
    "\n"
   ]
  },
  {
   "cell_type": "markdown",
   "metadata": {},
   "source": [
    "### tuples\n",
    "- t1 parantheis()li square brackets []\n",
    "- difference between list and tuples\n",
    "- list are mutable - can be changed /modified\n",
    "   - used to access modify ,add,delete data\n",
    "- tuples are immutable -cannot be changed \n",
    "   - used to access  data only"
   ]
  },
  {
   "cell_type": "code",
   "execution_count": 35,
   "metadata": {},
   "outputs": [
    {
     "data": {
      "text/plain": [
       "tuple"
      ]
     },
     "execution_count": 35,
     "metadata": {},
     "output_type": "execute_result"
    }
   ],
   "source": [
    "t1=(1,2,3,4,5,6)\n",
    "t1\n",
    "type(t1)"
   ]
  },
  {
   "cell_type": "code",
   "execution_count": 34,
   "metadata": {},
   "outputs": [
    {
     "data": {
      "text/plain": [
       "[1, 3, 6, 18, 19, 25]"
      ]
     },
     "execution_count": 34,
     "metadata": {},
     "output_type": "execute_result"
    }
   ],
   "source": [
    "\n",
    "#function to represent the bubble sort\n",
    "def bubbleSort(li):\n",
    "   for i in range(len(li)-1):\n",
    "       for j in range(len(li)-1):\n",
    "           if li[j]>li[j+1]:\n",
    "               li[j],li[j+1]=li[j+1],li[j]\n",
    "   return li\n",
    "li=[19,1,25,6,18,3]\n",
    "bubbleSort(li)\n",
    "\n"
   ]
  },
  {
   "cell_type": "markdown",
   "metadata": {},
   "source": [
    "### contact application\n",
    "- add contact \n",
    "- search the contact\n",
    "- list all contacts \n",
    "   name1:phone1\n",
    "   name2:phone2\n",
    "- modify thew contact\n",
    "- remove the contact\n",
    "- import the contact\n"
   ]
  },
  {
   "cell_type": "code",
   "execution_count": 40,
   "metadata": {},
   "outputs": [
    {
     "name": "stdout",
     "output_type": "stream",
     "text": [
      "contact details are added\n",
      "contact details are added\n",
      "contact details are already exists\n"
     ]
    }
   ],
   "source": [
    "# add contacts\n",
    "contacts ={} # creating a dict object\n",
    "def addcontact(name,phone):\n",
    "    if name not in contacts:\n",
    "        contacts[name]=phone\n",
    "        print(\"contact details are added\")\n",
    "    else:\n",
    "        print(\"contact details are already exists\")\n",
    "    return\n",
    "addcontact('joe',9856473245)\n",
    "addcontact('sam',8675493567)\n",
    "addcontact('joe',9856473245)"
   ]
  },
  {
   "cell_type": "code",
   "execution_count": 43,
   "metadata": {
    "scrolled": true
   },
   "outputs": [
    {
     "name": "stdout",
     "output_type": "stream",
     "text": [
      "joe : 9856473245\n",
      "sam : 8675493567\n",
      "riya does not exists\n"
     ]
    }
   ],
   "source": [
    "# search fo the contact details \n",
    "def searchcontact(name):\n",
    "    if name in contacts:\n",
    "        print(name,\":\",contacts[name])\n",
    "    else:\n",
    "        print(\"%s does not exists\"% name)\n",
    "    return\n",
    "searchcontact('joe')\n",
    "searchcontact('sam')   \n",
    "searchcontact('riya')"
   ]
  },
  {
   "cell_type": "code",
   "execution_count": 44,
   "metadata": {},
   "outputs": [
    {
     "name": "stdout",
     "output_type": "stream",
     "text": [
      "2 contacts added successfully\n"
     ]
    }
   ],
   "source": [
    "# import soem contacts\n",
    "# merge the contact with the existing one\n",
    "def importcontact(newcontacts):\n",
    "    contacts.update(newcontacts)\n",
    "    print(len(newcontacts.keys()),\"contacts added successfully\")\n",
    "    return\n",
    "newcontacts={'jay':7786543898,'sid':9987886998}\n",
    "importcontact(newcontacts)"
   ]
  },
  {
   "cell_type": "code",
   "execution_count": null,
   "metadata": {},
   "outputs": [],
   "source": []
  }
 ],
 "metadata": {
  "kernelspec": {
   "display_name": "Python 3",
   "language": "python",
   "name": "python3"
  },
  "language_info": {
   "codemirror_mode": {
    "name": "ipython",
    "version": 3
   },
   "file_extension": ".py",
   "mimetype": "text/x-python",
   "name": "python",
   "nbconvert_exporter": "python",
   "pygments_lexer": "ipython3",
   "version": "3.7.3"
  }
 },
 "nbformat": 4,
 "nbformat_minor": 2
}
